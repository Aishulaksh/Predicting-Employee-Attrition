{
 "cells": [
  {
   "cell_type": "code",
   "execution_count": 1,
   "metadata": {
    "collapsed": true
   },
   "outputs": [],
   "source": [
    "import pandas as pd\n",
    "import numpy as np\n",
    "from numpy import array\n",
    "from sklearn import preprocessing\n",
    "from sklearn import linear_model\n",
    "from sklearn.feature_selection import RFE"
   ]
  },
  {
   "cell_type": "code",
   "execution_count": 2,
   "metadata": {},
   "outputs": [],
   "source": [
    "df = pd.read_csv(\"WA_Fn-UseC_-HR-Employee-Attrition.csv\")"
   ]
  },
  {
   "cell_type": "code",
   "execution_count": 3,
   "metadata": {
    "collapsed": true
   },
   "outputs": [],
   "source": [
    "le = preprocessing.LabelEncoder()"
   ]
  },
  {
   "cell_type": "code",
   "execution_count": 4,
   "metadata": {
    "collapsed": true
   },
   "outputs": [],
   "source": [
    "def encode_col(col_name) :\n",
    "    enc = le.fit(df[col_name])\n",
    "    new_col_name = \"e_\"+col_name\n",
    "    df[new_col_name] = df[col_name].map(lambda x: enc.transform([x]))\n",
    "    df[new_col_name] = df[new_col_name].map(lambda x:x[0])\n",
    "    return"
   ]
  },
  {
   "cell_type": "code",
   "execution_count": 5,
   "metadata": {
    "collapsed": true
   },
   "outputs": [],
   "source": [
    "encode_col('Attrition')"
   ]
  },
  {
   "cell_type": "code",
   "execution_count": 6,
   "metadata": {
    "collapsed": true
   },
   "outputs": [],
   "source": [
    "encode_col('BusinessTravel')"
   ]
  },
  {
   "cell_type": "code",
   "execution_count": 7,
   "metadata": {
    "collapsed": true
   },
   "outputs": [],
   "source": [
    "encode_col('Department')"
   ]
  },
  {
   "cell_type": "code",
   "execution_count": 8,
   "metadata": {
    "collapsed": true
   },
   "outputs": [],
   "source": [
    "encode_col('EducationField')"
   ]
  },
  {
   "cell_type": "code",
   "execution_count": 9,
   "metadata": {
    "collapsed": true
   },
   "outputs": [],
   "source": [
    "encode_col('Gender')"
   ]
  },
  {
   "cell_type": "code",
   "execution_count": 10,
   "metadata": {
    "collapsed": true
   },
   "outputs": [],
   "source": [
    "encode_col('JobRole')"
   ]
  },
  {
   "cell_type": "code",
   "execution_count": 11,
   "metadata": {
    "collapsed": true
   },
   "outputs": [],
   "source": [
    "encode_col('MaritalStatus')"
   ]
  },
  {
   "cell_type": "code",
   "execution_count": 12,
   "metadata": {
    "collapsed": true
   },
   "outputs": [],
   "source": [
    "encode_col('Over18')"
   ]
  },
  {
   "cell_type": "code",
   "execution_count": 13,
   "metadata": {
    "collapsed": true
   },
   "outputs": [],
   "source": [
    "encode_col('OverTime')"
   ]
  },
  {
   "cell_type": "code",
   "execution_count": 14,
   "metadata": {
    "collapsed": true
   },
   "outputs": [],
   "source": [
    "X = df[[\"Age\",\"e_BusinessTravel\",\"DailyRate\",\"e_Department\",\"DistanceFromHome\",\"Education\",\"e_EducationField\",'EmployeeCount',\"EmployeeNumber\",\"EnvironmentSatisfaction\",\"e_Gender\",\"HourlyRate\",\"JobInvolvement\",\"JobLevel\",\"e_JobRole\",\"JobSatisfaction\",\"e_MaritalStatus\",\"MonthlyIncome\",\"MonthlyRate\",\"NumCompaniesWorked\",\"e_Over18\",\"e_OverTime\",\"PercentSalaryHike\",\"PerformanceRating\",\"RelationshipSatisfaction\",\"StandardHours\",\"StockOptionLevel\",\"TotalWorkingYears\",\"TrainingTimesLastYear\",\"WorkLifeBalance\",\"YearsAtCompany\",\"YearsInCurrentRole\",\"YearsSinceLastPromotion\",\"YearsWithCurrManager\"]]"
   ]
  },
  {
   "cell_type": "code",
   "execution_count": 15,
   "metadata": {
    "collapsed": true
   },
   "outputs": [],
   "source": [
    "y = df[\"e_Attrition\"]"
   ]
  },
  {
   "cell_type": "code",
   "execution_count": 16,
   "metadata": {
    "collapsed": true
   },
   "outputs": [],
   "source": [
    "log_reg = linear_model.LogisticRegression()"
   ]
  },
  {
   "cell_type": "code",
   "execution_count": 17,
   "metadata": {
    "collapsed": true
   },
   "outputs": [],
   "source": [
    "rfe = RFE(log_reg, n_features_to_select=1)"
   ]
  },
  {
   "cell_type": "code",
   "execution_count": 18,
   "metadata": {},
   "outputs": [
    {
     "data": {
      "text/plain": [
       "RFE(estimator=LogisticRegression(C=1.0, class_weight=None, dual=False, fit_intercept=True,\n",
       "          intercept_scaling=1, max_iter=100, multi_class='ovr', n_jobs=1,\n",
       "          penalty='l2', random_state=None, solver='liblinear', tol=0.0001,\n",
       "          verbose=0, warm_start=False),\n",
       "  n_features_to_select=1, step=1, verbose=0)"
      ]
     },
     "execution_count": 18,
     "metadata": {},
     "output_type": "execute_result"
    }
   ],
   "source": [
    "rfe.fit(X,y)"
   ]
  },
  {
   "cell_type": "code",
   "execution_count": 19,
   "metadata": {
    "collapsed": true
   },
   "outputs": [],
   "source": [
    "#print(rfe.support_)"
   ]
  },
  {
   "cell_type": "code",
   "execution_count": 20,
   "metadata": {
    "collapsed": true
   },
   "outputs": [],
   "source": [
    "rank = rfe.ranking_"
   ]
  },
  {
   "cell_type": "code",
   "execution_count": 21,
   "metadata": {},
   "outputs": [
    {
     "data": {
      "text/plain": [
       "numpy.ndarray"
      ]
     },
     "execution_count": 21,
     "metadata": {},
     "output_type": "execute_result"
    }
   ],
   "source": [
    "type(rank)"
   ]
  },
  {
   "cell_type": "code",
   "execution_count": 22,
   "metadata": {},
   "outputs": [
    {
     "data": {
      "text/plain": [
       "array([25, 27, 30,  5, 23, 26, 20, 29, 31,  7,  8, 28,  4,  3, 21,  6,  2,\n",
       "       32, 33, 16, 34,  1, 22, 15, 11, 24, 10, 19, 14,  9, 18, 12, 13, 17])"
      ]
     },
     "execution_count": 22,
     "metadata": {},
     "output_type": "execute_result"
    }
   ],
   "source": [
    "rank.view()"
   ]
  },
  {
   "cell_type": "code",
   "execution_count": 23,
   "metadata": {
    "collapsed": true
   },
   "outputs": [],
   "source": [
    "feature_names = list(X.columns.values)"
   ]
  },
  {
   "cell_type": "code",
   "execution_count": 24,
   "metadata": {
    "collapsed": true
   },
   "outputs": [],
   "source": [
    "features = array(feature_names)"
   ]
  },
  {
   "cell_type": "code",
   "execution_count": 25,
   "metadata": {},
   "outputs": [
    {
     "data": {
      "text/plain": [
       "numpy.ndarray"
      ]
     },
     "execution_count": 25,
     "metadata": {},
     "output_type": "execute_result"
    }
   ],
   "source": [
    "type(features)"
   ]
  },
  {
   "cell_type": "code",
   "execution_count": 26,
   "metadata": {
    "collapsed": true
   },
   "outputs": [],
   "source": [
    "#features.view()"
   ]
  },
  {
   "cell_type": "code",
   "execution_count": 27,
   "metadata": {
    "collapsed": true
   },
   "outputs": [],
   "source": [
    "con = np.column_stack((rank,features))"
   ]
  },
  {
   "cell_type": "code",
   "execution_count": 28,
   "metadata": {},
   "outputs": [
    {
     "data": {
      "text/plain": [
       "array([['25', 'Age'],\n",
       "       ['27', 'e_BusinessTravel'],\n",
       "       ['30', 'DailyRate'],\n",
       "       ['5', 'e_Department'],\n",
       "       ['23', 'DistanceFromHome'],\n",
       "       ['26', 'Education'],\n",
       "       ['20', 'e_EducationField'],\n",
       "       ['29', 'EmployeeCount'],\n",
       "       ['31', 'EmployeeNumber'],\n",
       "       ['7', 'EnvironmentSatisfaction'],\n",
       "       ['8', 'e_Gender'],\n",
       "       ['28', 'HourlyRate'],\n",
       "       ['4', 'JobInvolvement'],\n",
       "       ['3', 'JobLevel'],\n",
       "       ['21', 'e_JobRole'],\n",
       "       ['6', 'JobSatisfaction'],\n",
       "       ['2', 'e_MaritalStatus'],\n",
       "       ['32', 'MonthlyIncome'],\n",
       "       ['33', 'MonthlyRate'],\n",
       "       ['16', 'NumCompaniesWorked'],\n",
       "       ['34', 'e_Over18'],\n",
       "       ['1', 'e_OverTime'],\n",
       "       ['22', 'PercentSalaryHike'],\n",
       "       ['15', 'PerformanceRating'],\n",
       "       ['11', 'RelationshipSatisfaction'],\n",
       "       ['24', 'StandardHours'],\n",
       "       ['10', 'StockOptionLevel'],\n",
       "       ['19', 'TotalWorkingYears'],\n",
       "       ['14', 'TrainingTimesLastYear'],\n",
       "       ['9', 'WorkLifeBalance'],\n",
       "       ['18', 'YearsAtCompany'],\n",
       "       ['12', 'YearsInCurrentRole'],\n",
       "       ['13', 'YearsSinceLastPromotion'],\n",
       "       ['17', 'YearsWithCurrManager']],\n",
       "      dtype='<U24')"
      ]
     },
     "execution_count": 28,
     "metadata": {},
     "output_type": "execute_result"
    }
   ],
   "source": [
    "con.view()"
   ]
  },
  {
   "cell_type": "code",
   "execution_count": null,
   "metadata": {
    "collapsed": true
   },
   "outputs": [],
   "source": []
  }
 ],
 "metadata": {
  "kernelspec": {
   "display_name": "Python 3",
   "language": "python",
   "name": "python3"
  },
  "language_info": {
   "codemirror_mode": {
    "name": "ipython",
    "version": 3
   },
   "file_extension": ".py",
   "mimetype": "text/x-python",
   "name": "python",
   "nbconvert_exporter": "python",
   "pygments_lexer": "ipython3",
   "version": "3.6.3"
  }
 },
 "nbformat": 4,
 "nbformat_minor": 2
}
