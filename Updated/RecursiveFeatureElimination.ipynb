{
 "cells": [
  {
   "cell_type": "code",
   "execution_count": 1,
   "metadata": {
    "collapsed": true
   },
   "outputs": [],
   "source": [
    "import pandas as pd\n",
    "import numpy as np"
   ]
  },
  {
   "cell_type": "code",
   "execution_count": 2,
   "metadata": {
    "collapsed": true
   },
   "outputs": [],
   "source": [
    "from numpy import array\n",
    "from sklearn import linear_model\n",
    "from sklearn.feature_selection import RFE"
   ]
  },
  {
   "cell_type": "code",
   "execution_count": 3,
   "metadata": {
    "collapsed": true
   },
   "outputs": [],
   "source": [
    "%store -r X_train\n",
    "%store -r X_test\n",
    "%store -r y_train\n",
    "%store -r X"
   ]
  },
  {
   "cell_type": "code",
   "execution_count": 4,
   "metadata": {
    "collapsed": true
   },
   "outputs": [],
   "source": [
    "log_reg = linear_model.LogisticRegression(random_state=42)"
   ]
  },
  {
   "cell_type": "code",
   "execution_count": 5,
   "metadata": {
    "collapsed": true
   },
   "outputs": [],
   "source": [
    "clf = RFE(log_reg, n_features_to_select=1)"
   ]
  },
  {
   "cell_type": "code",
   "execution_count": 6,
   "metadata": {},
   "outputs": [
    {
     "name": "stdout",
     "output_type": "stream",
     "text": [
      "RFE(estimator=LogisticRegression(C=1.0, class_weight=None, dual=False, fit_intercept=True,\n",
      "          intercept_scaling=1, max_iter=100, multi_class='ovr', n_jobs=1,\n",
      "          penalty='l2', random_state=42, solver='liblinear', tol=0.0001,\n",
      "          verbose=0, warm_start=False),\n",
      "  n_features_to_select=1, step=1, verbose=0)\n"
     ]
    }
   ],
   "source": [
    "trained_model=clf.fit(X_train,y_train)\n",
    "print(trained_model)"
   ]
  },
  {
   "cell_type": "code",
   "execution_count": 7,
   "metadata": {
    "collapsed": true
   },
   "outputs": [],
   "source": [
    "y_pred = clf.predict(X_test)"
   ]
  },
  {
   "cell_type": "code",
   "execution_count": 8,
   "metadata": {},
   "outputs": [
    {
     "name": "stdout",
     "output_type": "stream",
     "text": [
      "[False False False False False False False False False False False False\n",
      " False False False False False False False False False  True False False\n",
      " False False False False False False False False False False]\n"
     ]
    }
   ],
   "source": [
    "print(clf.support_)"
   ]
  },
  {
   "cell_type": "code",
   "execution_count": 9,
   "metadata": {},
   "outputs": [
    {
     "data": {
      "text/plain": [
       "array([26, 27, 30,  5, 24, 20, 18, 29, 32,  8,  7, 28,  4,  3, 21,  6,  2,\n",
       "       31, 33, 13, 34,  1, 23, 22, 14, 25, 10, 19, 15,  9, 17, 11, 12, 16])"
      ]
     },
     "execution_count": 9,
     "metadata": {},
     "output_type": "execute_result"
    }
   ],
   "source": [
    "rank = clf.ranking_\n",
    "rank.view()"
   ]
  },
  {
   "cell_type": "code",
   "execution_count": 10,
   "metadata": {},
   "outputs": [
    {
     "data": {
      "text/plain": [
       "array([26, 27, 30,  5, 24, 20, 18, 29, 32,  8,  7, 28,  4,  3, 21,  6,  2,\n",
       "       31, 33, 13, 34,  1, 23, 22, 14, 25, 10, 19, 15,  9, 17, 11, 12, 16])"
      ]
     },
     "execution_count": 10,
     "metadata": {},
     "output_type": "execute_result"
    }
   ],
   "source": [
    "rank.view()"
   ]
  },
  {
   "cell_type": "code",
   "execution_count": 11,
   "metadata": {
    "collapsed": true
   },
   "outputs": [],
   "source": [
    "feature_names = list(X.columns.values)"
   ]
  },
  {
   "cell_type": "code",
   "execution_count": 12,
   "metadata": {
    "collapsed": true
   },
   "outputs": [],
   "source": [
    "features = array(feature_names)"
   ]
  },
  {
   "cell_type": "code",
   "execution_count": 13,
   "metadata": {},
   "outputs": [
    {
     "data": {
      "text/plain": [
       "array(['Age', 'e.BusinessTravel', 'DailyRate', 'e.Department',\n",
       "       'DistanceFromHome', 'Education', 'e.EducationField',\n",
       "       'EmployeeCount', 'EmployeeNumber', 'EnvironmentSatisfaction',\n",
       "       'e.Gender', 'HourlyRate', 'JobInvolvement', 'JobLevel', 'e.JobRole',\n",
       "       'JobSatisfaction', 'e.MaritalStatus', 'MonthlyIncome',\n",
       "       'MonthlyRate', 'NumCompaniesWorked', 'e.Over18', 'e.OverTime',\n",
       "       'PercentSalaryHike', 'PerformanceRating',\n",
       "       'RelationshipSatisfaction', 'StandardHours', 'StockOptionLevel',\n",
       "       'TotalWorkingYears', 'TrainingTimesLastYear', 'WorkLifeBalance',\n",
       "       'YearsAtCompany', 'YearsInCurrentRole', 'YearsSinceLastPromotion',\n",
       "       'YearsWithCurrManager'],\n",
       "      dtype='<U24')"
      ]
     },
     "execution_count": 13,
     "metadata": {},
     "output_type": "execute_result"
    }
   ],
   "source": [
    "features.view()"
   ]
  },
  {
   "cell_type": "code",
   "execution_count": 14,
   "metadata": {
    "collapsed": true
   },
   "outputs": [],
   "source": [
    "con = np.column_stack((rank,features))"
   ]
  },
  {
   "cell_type": "code",
   "execution_count": 15,
   "metadata": {},
   "outputs": [
    {
     "data": {
      "text/plain": [
       "array([['26', 'Age'],\n",
       "       ['27', 'e.BusinessTravel'],\n",
       "       ['30', 'DailyRate'],\n",
       "       ['5', 'e.Department'],\n",
       "       ['24', 'DistanceFromHome'],\n",
       "       ['20', 'Education'],\n",
       "       ['18', 'e.EducationField'],\n",
       "       ['29', 'EmployeeCount'],\n",
       "       ['32', 'EmployeeNumber'],\n",
       "       ['8', 'EnvironmentSatisfaction'],\n",
       "       ['7', 'e.Gender'],\n",
       "       ['28', 'HourlyRate'],\n",
       "       ['4', 'JobInvolvement'],\n",
       "       ['3', 'JobLevel'],\n",
       "       ['21', 'e.JobRole'],\n",
       "       ['6', 'JobSatisfaction'],\n",
       "       ['2', 'e.MaritalStatus'],\n",
       "       ['31', 'MonthlyIncome'],\n",
       "       ['33', 'MonthlyRate'],\n",
       "       ['13', 'NumCompaniesWorked'],\n",
       "       ['34', 'e.Over18'],\n",
       "       ['1', 'e.OverTime'],\n",
       "       ['23', 'PercentSalaryHike'],\n",
       "       ['22', 'PerformanceRating'],\n",
       "       ['14', 'RelationshipSatisfaction'],\n",
       "       ['25', 'StandardHours'],\n",
       "       ['10', 'StockOptionLevel'],\n",
       "       ['19', 'TotalWorkingYears'],\n",
       "       ['15', 'TrainingTimesLastYear'],\n",
       "       ['9', 'WorkLifeBalance'],\n",
       "       ['17', 'YearsAtCompany'],\n",
       "       ['11', 'YearsInCurrentRole'],\n",
       "       ['12', 'YearsSinceLastPromotion'],\n",
       "       ['16', 'YearsWithCurrManager']],\n",
       "      dtype='<U24')"
      ]
     },
     "execution_count": 15,
     "metadata": {},
     "output_type": "execute_result"
    }
   ],
   "source": [
    "con.view()"
   ]
  },
  {
   "cell_type": "code",
   "execution_count": 16,
   "metadata": {
    "collapsed": true
   },
   "outputs": [],
   "source": [
    "%run Metrics_Evaluation.ipynb"
   ]
  },
  {
   "cell_type": "code",
   "execution_count": 17,
   "metadata": {},
   "outputs": [
    {
     "name": "stdout",
     "output_type": "stream",
     "text": [
      "Cross_validation= [ 0.83163265  0.83163265  0.83163265]\n",
      "Mean_square_error= 0.132653061224\n",
      "R2_error= -0.152941176471\n",
      "Confusion_matrix=\n",
      " [[255   0]\n",
      " [ 39   0]]\n",
      "Classification_Report=\n",
      "              precision    recall  f1-score   support\n",
      "\n",
      "          0       0.87      1.00      0.93       255\n",
      "\n",
      "avg / total       0.87      1.00      0.93       255\n",
      "\n"
     ]
    }
   ],
   "source": [
    "accuracy,cross_validation,mean_square_error,r2_error,confusion_matrix,report=get_metrics(y_pred,clf)"
   ]
  },
  {
   "cell_type": "code",
   "execution_count": 18,
   "metadata": {},
   "outputs": [
    {
     "name": "stdout",
     "output_type": "stream",
     "text": [
      "0.867346938776\n",
      "0.831632653061\n"
     ]
    }
   ],
   "source": [
    "print(accuracy)\n",
    "print(cross_validation)"
   ]
  },
  {
   "cell_type": "code",
   "execution_count": 19,
   "metadata": {},
   "outputs": [
    {
     "name": "stdout",
     "output_type": "stream",
     "text": [
      "Stored 'accuracy' (float64)\n",
      "Stored 'cross_validation' (float64)\n"
     ]
    }
   ],
   "source": [
    "%store accuracy\n",
    "%store cross_validation"
   ]
  }
 ],
 "metadata": {
  "kernelspec": {
   "display_name": "Python 3",
   "language": "python",
   "name": "python3"
  },
  "language_info": {
   "codemirror_mode": {
    "name": "ipython",
    "version": 3
   },
   "file_extension": ".py",
   "mimetype": "text/x-python",
   "name": "python",
   "nbconvert_exporter": "python",
   "pygments_lexer": "ipython3",
   "version": "3.6.3"
  }
 },
 "nbformat": 4,
 "nbformat_minor": 2
}
