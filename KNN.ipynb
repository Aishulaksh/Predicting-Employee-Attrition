{
 "cells": [
  {
   "cell_type": "code",
   "execution_count": 1,
   "metadata": {},
   "outputs": [],
   "source": [
    "import pandas as pd\n",
    "import numpy as np\n",
    "from sklearn import preprocessing\n",
    "from sklearn.model_selection import train_test_split\n",
    "from sklearn.neighbors import KNeighborsClassifier\n",
    "import math\n",
    "from sklearn import metrics\n",
    "from sklearn.metrics import mean_squared_error\n",
    "from sklearn.metrics import r2_score"
   ]
  },
  {
   "cell_type": "code",
   "execution_count": 2,
   "metadata": {
    "collapsed": true
   },
   "outputs": [],
   "source": [
    "df = pd.read_csv(\"Dataset 2.csv\")"
   ]
  },
  {
   "cell_type": "code",
   "execution_count": 3,
   "metadata": {
    "collapsed": true
   },
   "outputs": [],
   "source": [
    "l = len(df.index)"
   ]
  },
  {
   "cell_type": "code",
   "execution_count": 4,
   "metadata": {
    "collapsed": true
   },
   "outputs": [],
   "source": [
    "le = preprocessing.LabelEncoder()"
   ]
  },
  {
   "cell_type": "code",
   "execution_count": 5,
   "metadata": {
    "collapsed": true
   },
   "outputs": [],
   "source": [
    "def encode_col(col_name) :\n",
    "    enc = le.fit(df[col_name])\n",
    "    new_col_name = \"e_\"+col_name\n",
    "    df[new_col_name] = df[col_name].map(lambda x: enc.transform([x]))\n",
    "    df[new_col_name] = df[new_col_name].map(lambda x:x[0])\n",
    "    return"
   ]
  },
  {
   "cell_type": "code",
   "execution_count": 6,
   "metadata": {
    "collapsed": true
   },
   "outputs": [],
   "source": [
    "encode_col('Attrition')"
   ]
  },
  {
   "cell_type": "code",
   "execution_count": 7,
   "metadata": {
    "collapsed": true
   },
   "outputs": [],
   "source": [
    "encode_col('BusinessTravel')"
   ]
  },
  {
   "cell_type": "code",
   "execution_count": 8,
   "metadata": {
    "collapsed": true
   },
   "outputs": [],
   "source": [
    "encode_col('Department')"
   ]
  },
  {
   "cell_type": "code",
   "execution_count": 9,
   "metadata": {
    "collapsed": true
   },
   "outputs": [],
   "source": [
    "encode_col('EducationField')"
   ]
  },
  {
   "cell_type": "code",
   "execution_count": 10,
   "metadata": {
    "collapsed": true
   },
   "outputs": [],
   "source": [
    "encode_col('Gender')"
   ]
  },
  {
   "cell_type": "code",
   "execution_count": 11,
   "metadata": {
    "collapsed": true
   },
   "outputs": [],
   "source": [
    "encode_col('JobRole')"
   ]
  },
  {
   "cell_type": "code",
   "execution_count": 12,
   "metadata": {
    "collapsed": true
   },
   "outputs": [],
   "source": [
    "encode_col('MaritalStatus')"
   ]
  },
  {
   "cell_type": "code",
   "execution_count": 13,
   "metadata": {
    "collapsed": true
   },
   "outputs": [],
   "source": [
    "encode_col('Over18')"
   ]
  },
  {
   "cell_type": "code",
   "execution_count": 14,
   "metadata": {
    "collapsed": true
   },
   "outputs": [],
   "source": [
    "encode_col('OverTime')"
   ]
  },
  {
   "cell_type": "code",
   "execution_count": 15,
   "metadata": {},
   "outputs": [],
   "source": [
    "X = df[[\"Age\",\"e_BusinessTravel\",\"DailyRate\",\"e_Department\",\"DistanceFromHome\",\"Education\",\"e_EducationField\",'EmployeeCount',\"EmployeeNumber\",\"EnvironmentSatisfaction\",\"e_Gender\",\"HourlyRate\",\"JobInvolvement\",\"JobLevel\",\"e_JobRole\",\"JobSatisfaction\",\"e_MaritalStatus\",\"MonthlyIncome\",\"MonthlyRate\",\"NumCompaniesWorked\",\"e_Over18\",\"e_OverTime\",\"PercentSalaryHike\",\"PerformanceRating\",\"RelationshipSatisfaction\",\"StandardHours\",\"StockOptionLevel\",\"TotalWorkingYears\",\"TrainingTimesLastYear\",\"WorkLifeBalance\",\"YearsAtCompany\",\"YearsInCurrentRole\",\"YearsSinceLastPromotion\",\"YearsWithCurrManager\"]]"
   ]
  },
  {
   "cell_type": "code",
   "execution_count": 16,
   "metadata": {
    "collapsed": true
   },
   "outputs": [],
   "source": [
    "y = df[\"e_Attrition\"]"
   ]
  },
  {
   "cell_type": "code",
   "execution_count": 17,
   "metadata": {
    "collapsed": true
   },
   "outputs": [],
   "source": [
    "X_train,X_test,y_train,y_test = train_test_split(X,y,test_size = 0.20,random_state = 42)"
   ]
  },
  {
   "cell_type": "code",
   "execution_count": 18,
   "metadata": {},
   "outputs": [
    {
     "data": {
      "text/plain": [
       "array([[  28,    2,  866, ...,    4,    1,    3],\n",
       "       [  53,    2, 1084, ...,    2,    1,    3],\n",
       "       [  24,    2,  240, ...,    0,    0,    0],\n",
       "       ..., \n",
       "       [  50,    2, 1322, ...,    2,    1,    2],\n",
       "       [  37,    2, 1225, ...,    0,    0,    0],\n",
       "       [  47,    2,  249, ...,    6,    7,    7]], dtype=int64)"
      ]
     },
     "execution_count": 18,
     "metadata": {},
     "output_type": "execute_result"
    }
   ],
   "source": [
    "X_test.values"
   ]
  },
  {
   "cell_type": "code",
   "execution_count": 19,
   "metadata": {},
   "outputs": [
    {
     "data": {
      "text/plain": [
       "(1176, 34)"
      ]
     },
     "execution_count": 19,
     "metadata": {},
     "output_type": "execute_result"
    }
   ],
   "source": [
    "X_train.shape"
   ]
  },
  {
   "cell_type": "code",
   "execution_count": 20,
   "metadata": {},
   "outputs": [
    {
     "data": {
      "text/plain": [
       "(294, 34)"
      ]
     },
     "execution_count": 20,
     "metadata": {},
     "output_type": "execute_result"
    }
   ],
   "source": [
    "X_test.shape"
   ]
  },
  {
   "cell_type": "code",
   "execution_count": 36,
   "metadata": {},
   "outputs": [
    {
     "data": {
      "text/plain": [
       "pandas.core.frame.DataFrame"
      ]
     },
     "execution_count": 36,
     "metadata": {},
     "output_type": "execute_result"
    }
   ],
   "source": [
    "type(X_test)"
   ]
  },
  {
   "cell_type": "code",
   "execution_count": 37,
   "metadata": {},
   "outputs": [
    {
     "data": {
      "text/plain": [
       "<bound method NDFrame.head of       Age  e_BusinessTravel  DailyRate  e_Department  DistanceFromHome  \\\n",
       "1041   28                 2        866             2                 5   \n",
       "184    53                 2       1084             1                13   \n",
       "1222   24                 2        240             0                22   \n",
       "67     45                 2       1339             1                 7   \n",
       "220    36                 2       1396             1                 5   \n",
       "494    34                 2        204             2                14   \n",
       "430    35                 2        144             1                22   \n",
       "240    39                 2       1431             1                 1   \n",
       "218    45                 0       1052             2                 6   \n",
       "49     35                 2       1229             1                 8   \n",
       "665    47                 2       1454             2                 2   \n",
       "926    43                 2        531             2                 4   \n",
       "617    44                 2        625             1                 4   \n",
       "361    40                 2       1171             1                10   \n",
       "1423   22                 2        581             1                 1   \n",
       "1244   30                 1       1312             1                 2   \n",
       "1250   29                 1        461             1                 1   \n",
       "752    36                 2        885             1                16   \n",
       "271    47                 0        666             1                29   \n",
       "1055   34                 1        829             1                15   \n",
       "259    31                 1        307             1                29   \n",
       "428    47                 2        983             1                 2   \n",
       "1026   32                 2        601             2                 7   \n",
       "277    38                 2        322             2                 7   \n",
       "1105   33                 2       1242             2                 8   \n",
       "1116   55                 2        685             2                26   \n",
       "670    27                 2        618             1                 4   \n",
       "619    33                 2        586             2                 1   \n",
       "1046   44                 2       1467             1                20   \n",
       "247    34                 2        470             1                 2   \n",
       "...   ...               ...        ...           ...               ...   \n",
       "990    33                 1       1111             2                 5   \n",
       "677    49                 2        527             1                 8   \n",
       "233    50                 2        854             2                 1   \n",
       "423    30                 0       1398             2                22   \n",
       "196    35                 1        138             1                 2   \n",
       "1234   47                 0        543             2                 2   \n",
       "81     35                 2       1214             1                 1   \n",
       "1377   49                 1       1064             1                 2   \n",
       "1133   43                 2        990             1                27   \n",
       "111    34                 1        658             1                 7   \n",
       "1251   30                 2        979             2                15   \n",
       "1191   31                 2       1112             2                 5   \n",
       "943    46                 2        991             0                 1   \n",
       "661    43                 2        177             1                 8   \n",
       "1240   39                 0        792             1                 1   \n",
       "1218   41                 2        918             2                 6   \n",
       "570    52                 0        715             1                19   \n",
       "354    30                 0        641             2                25   \n",
       "1114   48                 2       1108             1                15   \n",
       "1090   29                 2        441             1                 8   \n",
       "316    49                 2       1091             1                 1   \n",
       "1458   35                 2        287             1                 1   \n",
       "1070   28                 1        467             2                 7   \n",
       "682    32                 0       1184             1                 1   \n",
       "394    31                 2        480             1                 7   \n",
       "567    34                 2        304             2                 2   \n",
       "560    34                 2        167             1                 8   \n",
       "945    50                 2       1322             1                28   \n",
       "522    37                 2       1225             1                10   \n",
       "651    47                 2        249             2                 2   \n",
       "\n",
       "      Education  e_EducationField  EmployeeCount  EmployeeNumber  \\\n",
       "1041          3                 3              1            1469   \n",
       "184           2                 3              1             250   \n",
       "1222          1                 0              1            1714   \n",
       "67            3                 1              1              86   \n",
       "220           2                 1              1             304   \n",
       "494           3                 5              1             666   \n",
       "430           3                 1              1             577   \n",
       "240           4                 3              1             332   \n",
       "218           3                 3              1             302   \n",
       "49            1                 1              1              63   \n",
       "665           4                 1              1             925   \n",
       "926           4                 2              1            1293   \n",
       "617           3                 3              1             852   \n",
       "361           4                 1              1             483   \n",
       "1423          2                 1              1            2007   \n",
       "1244          4                 5              1            1745   \n",
       "1250          3                 1              1            1753   \n",
       "752           4                 1              1            1042   \n",
       "271           4                 1              1             376   \n",
       "1055          3                 3              1            1485   \n",
       "259           2                 3              1             355   \n",
       "428           2                 3              1             574   \n",
       "1026          5                 2              1            1446   \n",
       "277           2                 3              1             382   \n",
       "1105          4                 1              1            1560   \n",
       "1116          5                 2              1            1578   \n",
       "670           3                 1              1             933   \n",
       "619           3                 3              1             855   \n",
       "1046          3                 1              1            1475   \n",
       "247           4                 1              1             339   \n",
       "...         ...               ...            ...             ...   \n",
       "990           1                 1              1            1395   \n",
       "677           2                 4              1             944   \n",
       "233           4                 3              1             323   \n",
       "423           4                 4              1             567   \n",
       "196           3                 3              1             269   \n",
       "1234          4                 2              1            1731   \n",
       "81            3                 3              1             105   \n",
       "1377          1                 1              1            1941   \n",
       "1133          3                 5              1            1599   \n",
       "111           3                 1              1             147   \n",
       "1251          2                 2              1            1754   \n",
       "1191          4                 1              1            1673   \n",
       "943           2                 1              1            1314   \n",
       "661           3                 1              1             920   \n",
       "1240          3                 1              1            1737   \n",
       "1218          3                 2              1            1708   \n",
       "570           4                 3              1             791   \n",
       "354           2                 5              1             475   \n",
       "1114          4                 4              1            1576   \n",
       "1090          1                 4              1            1544   \n",
       "316           2                 5              1             431   \n",
       "1458          4                 1              1            2052   \n",
       "1070          3                 1              1            1507   \n",
       "682           3                 1              1             951   \n",
       "394           2                 3              1             524   \n",
       "567           3                 4              1             786   \n",
       "560           5                 1              1             775   \n",
       "945           3                 1              1            1317   \n",
       "522           2                 1              1             715   \n",
       "651           2                 2              1             903   \n",
       "\n",
       "      EnvironmentSatisfaction          ...           RelationshipSatisfaction  \\\n",
       "1041                        4          ...                                  4   \n",
       "184                         4          ...                                  3   \n",
       "1222                        4          ...                                  3   \n",
       "67                          2          ...                                  3   \n",
       "220                         4          ...                                  4   \n",
       "494                         3          ...                                  4   \n",
       "430                         4          ...                                  3   \n",
       "240                         3          ...                                  3   \n",
       "218                         4          ...                                  4   \n",
       "49                          4          ...                                  4   \n",
       "665                         4          ...                                  1   \n",
       "926                         4          ...                                  4   \n",
       "617                         4          ...                                  4   \n",
       "361                         4          ...                                  3   \n",
       "1423                        4          ...                                  4   \n",
       "1244                        4          ...                                  4   \n",
       "1250                        4          ...                                  4   \n",
       "752                         3          ...                                  3   \n",
       "271                         1          ...                                  4   \n",
       "1055                        2          ...                                  4   \n",
       "259                         3          ...                                  2   \n",
       "428                         1          ...                                  3   \n",
       "1026                        4          ...                                  3   \n",
       "277                         1          ...                                  3   \n",
       "1105                        1          ...                                  4   \n",
       "1116                        3          ...                                  3   \n",
       "670                         2          ...                                  3   \n",
       "619                         1          ...                                  1   \n",
       "1046                        4          ...                                  3   \n",
       "247                         4          ...                                  2   \n",
       "...                       ...          ...                                ...   \n",
       "990                         2          ...                                  1   \n",
       "677                         1          ...                                  3   \n",
       "233                         4          ...                                  3   \n",
       "423                         3          ...                                  3   \n",
       "196                         2          ...                                  4   \n",
       "1234                        3          ...                                  4   \n",
       "81                          2          ...                                  1   \n",
       "1377                        2          ...                                  4   \n",
       "1133                        4          ...                                  3   \n",
       "111                         1          ...                                  4   \n",
       "1251                        3          ...                                  1   \n",
       "1191                        1          ...                                  1   \n",
       "943                         4          ...                                  3   \n",
       "661                         1          ...                                  3   \n",
       "1240                        4          ...                                  4   \n",
       "1218                        4          ...                                  2   \n",
       "570                         4          ...                                  1   \n",
       "354                         4          ...                                  2   \n",
       "1114                        3          ...                                  4   \n",
       "1090                        3          ...                                  3   \n",
       "316                         3          ...                                  4   \n",
       "1458                        3          ...                                  4   \n",
       "1070                        3          ...                                  4   \n",
       "682                         3          ...                                  3   \n",
       "394                         2          ...                                  2   \n",
       "567                         4          ...                                  3   \n",
       "560                         2          ...                                  3   \n",
       "945                         4          ...                                  2   \n",
       "522                         4          ...                                  1   \n",
       "651                         3          ...                                  1   \n",
       "\n",
       "      StandardHours  StockOptionLevel  TotalWorkingYears  \\\n",
       "1041             80                 0                  6   \n",
       "184              80                 2                  5   \n",
       "1222             80                 1                  1   \n",
       "67               80                 1                 25   \n",
       "220              80                 0                 16   \n",
       "494              80                 2                  8   \n",
       "430              80                 0                  6   \n",
       "240              80                 3                  7   \n",
       "218              80                 0                 23   \n",
       "49               80                 0                  1   \n",
       "665              80                 0                  3   \n",
       "926              80                 0                 23   \n",
       "617              80                 0                 10   \n",
       "361              80                 1                 10   \n",
       "1423             80                 0                  4   \n",
       "1244             80                 0                 10   \n",
       "1250             80                 0                 10   \n",
       "752              80                 0                 18   \n",
       "271              80                 1                 10   \n",
       "1055             80                 2                 16   \n",
       "259              80                 0                  6   \n",
       "428              80                 3                 20   \n",
       "1026             80                 1                  7   \n",
       "277              80                 1                  8   \n",
       "1105             80                 1                  8   \n",
       "1116             80                 1                 36   \n",
       "670              80                 0                  1   \n",
       "619              80                 1                  9   \n",
       "1046             80                 0                  6   \n",
       "247              80                 1                 13   \n",
       "...             ...               ...                ...   \n",
       "990              80                 0                  8   \n",
       "677              80                 1                 29   \n",
       "233              80                 1                 32   \n",
       "423              80                 0                 10   \n",
       "196              80                 0                 10   \n",
       "1234             80                 1                  4   \n",
       "81               80                 0                  6   \n",
       "1377             80                 0                 28   \n",
       "1133             80                 1                  8   \n",
       "111              80                 0                  9   \n",
       "1251             80                 1                 12   \n",
       "1191             80                 2                 10   \n",
       "943              80                 0                 10   \n",
       "661              80                 1                  4   \n",
       "1240             80                 1                  9   \n",
       "1218             80                 0                 10   \n",
       "570              80                 1                  5   \n",
       "354              80                 1                  4   \n",
       "1114             80                 1                 10   \n",
       "1090             80                 1                  9   \n",
       "316              80                 0                 25   \n",
       "1458             80                 1                  4   \n",
       "1070             80                 0                  5   \n",
       "682              80                 0                  5   \n",
       "394              80                 1                 13   \n",
       "567              80                 0                  6   \n",
       "560              80                 1                  7   \n",
       "945              80                 0                 25   \n",
       "522              80                 0                  4   \n",
       "651              80                 1                  8   \n",
       "\n",
       "      TrainingTimesLastYear  WorkLifeBalance  YearsAtCompany  \\\n",
       "1041                      4                3               5   \n",
       "184                       3                3               4   \n",
       "1222                      2                3               1   \n",
       "67                        2                3               1   \n",
       "220                       3                4              13   \n",
       "494                       3                3               8   \n",
       "430                       2                3               5   \n",
       "240                       1                3               3   \n",
       "218                       2                3              19   \n",
       "49                        2                3               1   \n",
       "665                       3                2               3   \n",
       "926                       3                4              21   \n",
       "617                       2                2               5   \n",
       "361                       3                3               7   \n",
       "1423                      2                4               3   \n",
       "1244                      2                3               9   \n",
       "1250                      5                4               3   \n",
       "752                       1                3              17   \n",
       "271                       2                2              10   \n",
       "1055                      3                2              14   \n",
       "259                       2                4               5   \n",
       "428                       2                3               5   \n",
       "1026                      3                2               4   \n",
       "277                       3                3               8   \n",
       "1105                      6                1               2   \n",
       "1116                      3                3              36   \n",
       "670                       2                3               1   \n",
       "619                       5                3               9   \n",
       "1046                      3                2               5   \n",
       "247                       3                3              11   \n",
       "...                     ...              ...             ...   \n",
       "990                       2                4               5   \n",
       "677                       3                2              26   \n",
       "233                       3                2               7   \n",
       "423                       3                3               9   \n",
       "196                       5                3               6   \n",
       "1234                      3                1               1   \n",
       "81                        3                3               6   \n",
       "1377                      3                3               5   \n",
       "1133                      0                3               6   \n",
       "111                       3                3               9   \n",
       "1251                      2                3               7   \n",
       "1191                      2                3              10   \n",
       "943                       3                4               7   \n",
       "661                       2                4               1   \n",
       "1240                      2                3               9   \n",
       "1218                      3                3              10   \n",
       "570                       3                3               4   \n",
       "354                       2                4               2   \n",
       "1114                      3                2               8   \n",
       "1090                      3                3               7   \n",
       "316                       2                3               7   \n",
       "1458                      5                3               4   \n",
       "1070                      5                3               4   \n",
       "682                       3                3               3   \n",
       "394                       5                1              13   \n",
       "567                       5                3               6   \n",
       "560                       3                3               0   \n",
       "945                       2                3               3   \n",
       "522                       2                3               1   \n",
       "651                       2                3               7   \n",
       "\n",
       "      YearsInCurrentRole  YearsSinceLastPromotion  YearsWithCurrManager  \n",
       "1041                   4                        1                     3  \n",
       "184                    2                        1                     3  \n",
       "1222                   0                        0                     0  \n",
       "67                     0                        0                     0  \n",
       "220                   11                        3                     7  \n",
       "494                    2                        0                     6  \n",
       "430                    4                        4                     3  \n",
       "240                    2                        1                     2  \n",
       "218                    7                       12                     8  \n",
       "49                     0                        0                     1  \n",
       "665                    2                        1                     2  \n",
       "926                    7                       15                    17  \n",
       "617                    2                        2                     3  \n",
       "361                    7                        1                     7  \n",
       "1423                   2                        1                     2  \n",
       "1244                   7                        0                     7  \n",
       "1250                   2                        0                     2  \n",
       "752                   13                       15                    14  \n",
       "271                    7                        9                     9  \n",
       "1055                   8                        6                     9  \n",
       "259                    4                        1                     4  \n",
       "428                    0                        0                     4  \n",
       "1026                   3                        0                     3  \n",
       "277                    0                        7                     7  \n",
       "1105                   2                        2                     2  \n",
       "1116                   6                        2                    13  \n",
       "670                    1                        0                     0  \n",
       "619                    8                        0                     8  \n",
       "1046                   2                        1                     3  \n",
       "247                    9                        5                     9  \n",
       "...                  ...                      ...                   ...  \n",
       "990                    4                        1                     2  \n",
       "677                    9                        1                     7  \n",
       "233                    0                        0                     6  \n",
       "423                    8                        7                     8  \n",
       "196                    2                        1                     2  \n",
       "1234                   0                        0                     0  \n",
       "81                     4                        0                     4  \n",
       "1377                   4                        4                     3  \n",
       "1133                   4                        0                     2  \n",
       "111                    7                        0                     6  \n",
       "1251                   7                        1                     7  \n",
       "1191                   0                        0                     2  \n",
       "943                    6                        5                     7  \n",
       "661                    0                        0                     0  \n",
       "1240                   8                        5                     8  \n",
       "1218                   8                        8                     7  \n",
       "570                    3                        1                     2  \n",
       "354                    2                        2                     2  \n",
       "1114                   2                        7                     6  \n",
       "1090                   7                        0                     7  \n",
       "316                    1                        0                     7  \n",
       "1458                   3                        1                     1  \n",
       "1070                   2                        1                     3  \n",
       "682                    0                        0                     2  \n",
       "394                   10                        3                    12  \n",
       "567                    5                        1                     4  \n",
       "560                    0                        0                     0  \n",
       "945                    2                        1                     2  \n",
       "522                    0                        0                     0  \n",
       "651                    6                        7                     7  \n",
       "\n",
       "[294 rows x 34 columns]>"
      ]
     },
     "execution_count": 37,
     "metadata": {},
     "output_type": "execute_result"
    }
   ],
   "source": [
    "X_test.head"
   ]
  },
  {
   "cell_type": "code",
   "execution_count": 21,
   "metadata": {},
   "outputs": [],
   "source": [
    "knn = KNeighborsClassifier(n_neighbors=int(math.sqrt(l)))"
   ]
  },
  {
   "cell_type": "code",
   "execution_count": 22,
   "metadata": {},
   "outputs": [
    {
     "data": {
      "text/plain": [
       "38"
      ]
     },
     "execution_count": 22,
     "metadata": {},
     "output_type": "execute_result"
    }
   ],
   "source": [
    "int(math.sqrt(l))"
   ]
  },
  {
   "cell_type": "code",
   "execution_count": 23,
   "metadata": {},
   "outputs": [
    {
     "data": {
      "text/plain": [
       "KNeighborsClassifier(algorithm='auto', leaf_size=30, metric='minkowski',\n",
       "           metric_params=None, n_jobs=1, n_neighbors=38, p=2,\n",
       "           weights='uniform')"
      ]
     },
     "execution_count": 23,
     "metadata": {},
     "output_type": "execute_result"
    }
   ],
   "source": [
    "knn.fit(X_train, y_train)"
   ]
  },
  {
   "cell_type": "code",
   "execution_count": 24,
   "metadata": {
    "collapsed": true
   },
   "outputs": [],
   "source": [
    "pred = knn.predict(X_test)"
   ]
  },
  {
   "cell_type": "code",
   "execution_count": 25,
   "metadata": {},
   "outputs": [],
   "source": [
    "#X_test['e_Attrition'] = pred"
   ]
  },
  {
   "cell_type": "code",
   "execution_count": 26,
   "metadata": {},
   "outputs": [
    {
     "data": {
      "text/plain": [
       "pandas.core.series.Series"
      ]
     },
     "execution_count": 26,
     "metadata": {},
     "output_type": "execute_result"
    }
   ],
   "source": [
    "type(y_test)"
   ]
  },
  {
   "cell_type": "code",
   "execution_count": 27,
   "metadata": {},
   "outputs": [
    {
     "data": {
      "text/plain": [
       "array([0, 0, 1, 0, 0, 0, 0, 0, 0, 0, 0, 0, 0, 0, 0, 0, 0, 1, 1, 0, 1, 0, 0,\n",
       "       0, 0, 0, 0, 0, 0, 0, 0, 0, 0, 0, 1, 0, 0, 1, 1, 0, 0, 0, 0, 0, 1, 0,\n",
       "       1, 1, 1, 1, 0, 0, 0, 0, 0, 0, 0, 0, 0, 0, 0, 1, 1, 0, 1, 1, 0, 0, 0,\n",
       "       0, 0, 0, 0, 0, 0, 0, 0, 0, 0, 0, 0, 0, 0, 0, 1, 0, 0, 0, 0, 0, 0, 0,\n",
       "       0, 0, 0, 0, 0, 0, 0, 0, 0, 0, 1, 0, 0, 0, 0, 0, 0, 0, 1, 0, 0, 0, 0,\n",
       "       0, 0, 0, 0, 0, 0, 0, 0, 0, 0, 1, 0, 1, 0, 0, 0, 0, 0, 1, 0, 0, 0, 1,\n",
       "       0, 0, 0, 0, 0, 0, 0, 0, 0, 1, 0, 1, 0, 1, 0, 1, 0, 1, 0, 0, 0, 0, 1,\n",
       "       0, 0, 0, 0, 0, 0, 0, 0, 0, 0, 0, 0, 0, 0, 0, 0, 0, 0, 0, 0, 0, 0, 0,\n",
       "       0, 0, 0, 0, 1, 0, 0, 0, 0, 0, 0, 0, 0, 0, 0, 0, 0, 0, 0, 0, 0, 0, 0,\n",
       "       0, 0, 0, 0, 1, 0, 0, 0, 0, 0, 0, 0, 0, 0, 1, 0, 1, 0, 0, 0, 0, 0, 0,\n",
       "       0, 1, 0, 0, 0, 0, 0, 1, 0, 0, 1, 0, 1, 0, 0, 0, 0, 0, 0, 0, 0, 0, 0,\n",
       "       0, 0, 0, 0, 1, 0, 0, 0, 0, 0, 0, 0, 0, 0, 0, 0, 0, 0, 0, 0, 1, 0, 0,\n",
       "       0, 0, 0, 0, 0, 0, 0, 0, 0, 0, 0, 0, 0, 0, 0, 0, 0, 0], dtype=int64)"
      ]
     },
     "execution_count": 27,
     "metadata": {},
     "output_type": "execute_result"
    }
   ],
   "source": [
    "y_test.values"
   ]
  },
  {
   "cell_type": "code",
   "execution_count": 28,
   "metadata": {
    "collapsed": true
   },
   "outputs": [],
   "source": [
    "#df1 = y_test.to_frame()"
   ]
  },
  {
   "cell_type": "code",
   "execution_count": 29,
   "metadata": {},
   "outputs": [],
   "source": [
    "#type(df1)"
   ]
  },
  {
   "cell_type": "code",
   "execution_count": 30,
   "metadata": {},
   "outputs": [],
   "source": [
    "#df1.shape"
   ]
  },
  {
   "cell_type": "code",
   "execution_count": 31,
   "metadata": {},
   "outputs": [
    {
     "data": {
      "text/plain": [
       "(294,)"
      ]
     },
     "execution_count": 31,
     "metadata": {},
     "output_type": "execute_result"
    }
   ],
   "source": [
    "pred.shape"
   ]
  },
  {
   "cell_type": "code",
   "execution_count": 32,
   "metadata": {},
   "outputs": [
    {
     "data": {
      "text/plain": [
       "numpy.ndarray"
      ]
     },
     "execution_count": 32,
     "metadata": {},
     "output_type": "execute_result"
    }
   ],
   "source": [
    "type(pred)"
   ]
  },
  {
   "cell_type": "code",
   "execution_count": 33,
   "metadata": {},
   "outputs": [
    {
     "name": "stdout",
     "output_type": "stream",
     "text": [
      "0.867346938776\n"
     ]
    }
   ],
   "source": [
    "print(metrics.accuracy_score(y_test, pred))"
   ]
  },
  {
   "cell_type": "code",
   "execution_count": 34,
   "metadata": {},
   "outputs": [
    {
     "data": {
      "text/plain": [
       "0.1326530612244898"
      ]
     },
     "execution_count": 34,
     "metadata": {},
     "output_type": "execute_result"
    }
   ],
   "source": [
    "mean_squared_error(y_test, pred)"
   ]
  },
  {
   "cell_type": "code",
   "execution_count": 35,
   "metadata": {},
   "outputs": [
    {
     "data": {
      "text/plain": [
       "-0.15294117647058836"
      ]
     },
     "execution_count": 35,
     "metadata": {},
     "output_type": "execute_result"
    }
   ],
   "source": [
    "r2_score(y_test, pred)"
   ]
  },
  {
   "cell_type": "code",
   "execution_count": null,
   "metadata": {
    "collapsed": true
   },
   "outputs": [],
   "source": []
  }
 ],
 "metadata": {
  "kernelspec": {
   "display_name": "Python 3",
   "language": "python",
   "name": "python3"
  },
  "language_info": {
   "codemirror_mode": {
    "name": "ipython",
    "version": 3
   },
   "file_extension": ".py",
   "mimetype": "text/x-python",
   "name": "python",
   "nbconvert_exporter": "python",
   "pygments_lexer": "ipython3",
   "version": "3.6.3"
  }
 },
 "nbformat": 4,
 "nbformat_minor": 2
}
