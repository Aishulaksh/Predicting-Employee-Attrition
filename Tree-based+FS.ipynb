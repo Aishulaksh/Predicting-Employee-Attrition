{
 "cells": [
  {
   "cell_type": "code",
   "execution_count": 1,
   "metadata": {
    "collapsed": true
   },
   "outputs": [],
   "source": [
    "import pandas as pd\n",
    "import numpy as np\n",
    "from sklearn import preprocessing\n",
    "from sklearn.ensemble import ExtraTreesClassifier\n",
    "from sklearn.feature_selection import SelectFromModel"
   ]
  },
  {
   "cell_type": "code",
   "execution_count": 2,
   "metadata": {
    "collapsed": true
   },
   "outputs": [],
   "source": [
    "df = pd.read_csv(\"Dataset 2.csv\")"
   ]
  },
  {
   "cell_type": "code",
   "execution_count": 3,
   "metadata": {
    "collapsed": true
   },
   "outputs": [],
   "source": [
    "le = preprocessing.LabelEncoder()"
   ]
  },
  {
   "cell_type": "code",
   "execution_count": 4,
   "metadata": {
    "collapsed": true
   },
   "outputs": [],
   "source": [
    "def encode_col(col_name):\n",
    "    encodes = le.fit(df[col_name])\n",
    "    new_col_name = \"e.\"+col_name\n",
    "    df[new_col_name] = df[col_name].map(lambda x: encodes.transform([x]))\n",
    "    df[new_col_name] = df[new_col_name].map(lambda x:x[0])\n",
    "    return"
   ]
  },
  {
   "cell_type": "code",
   "execution_count": 5,
   "metadata": {
    "collapsed": true
   },
   "outputs": [],
   "source": [
    "encode_col('Attrition')\n",
    "encode_col('BusinessTravel')\n",
    "encode_col('Department')\n",
    "encode_col('EducationField')\n",
    "encode_col('Gender')\n",
    "encode_col('JobRole')\n",
    "encode_col('MaritalStatus')\n",
    "encode_col('Over18')\n",
    "encode_col('OverTime')"
   ]
  },
  {
   "cell_type": "code",
   "execution_count": 6,
   "metadata": {
    "collapsed": true
   },
   "outputs": [],
   "source": [
    "X = df[[\"Age\",\"e.BusinessTravel\",\"DailyRate\",\"e.Department\",\"DistanceFromHome\",\"Education\",\"e.EducationField\",'EmployeeCount',\"EmployeeNumber\",\"EnvironmentSatisfaction\",\"e.Gender\",\"HourlyRate\",\"JobInvolvement\",\"JobLevel\",\"e.JobRole\",\"JobSatisfaction\",\"e.MaritalStatus\",\"MonthlyIncome\",\"MonthlyRate\",\"NumCompaniesWorked\",\"e.Over18\",\"e.OverTime\",\"PercentSalaryHike\",\"PerformanceRating\",\"RelationshipSatisfaction\",\"StandardHours\",\"StockOptionLevel\",\"TotalWorkingYears\",\"TrainingTimesLastYear\",\"WorkLifeBalance\",\"YearsAtCompany\",\"YearsInCurrentRole\",\"YearsSinceLastPromotion\",\"YearsWithCurrManager\"]]"
   ]
  },
  {
   "cell_type": "code",
   "execution_count": 7,
   "metadata": {
    "collapsed": true
   },
   "outputs": [],
   "source": [
    "y = df[\"e.Attrition\"]"
   ]
  },
  {
   "cell_type": "code",
   "execution_count": 8,
   "metadata": {},
   "outputs": [
    {
     "data": {
      "text/plain": [
       "(1470, 34)"
      ]
     },
     "execution_count": 8,
     "metadata": {},
     "output_type": "execute_result"
    }
   ],
   "source": [
    "X.shape"
   ]
  },
  {
   "cell_type": "code",
   "execution_count": 9,
   "metadata": {},
   "outputs": [
    {
     "data": {
      "text/plain": [
       "<bound method NDFrame.head of       Age  e.BusinessTravel  DailyRate  e.Department  DistanceFromHome  \\\n",
       "0      41                 2       1102             2                 1   \n",
       "1      49                 1        279             1                 8   \n",
       "2      37                 2       1373             1                 2   \n",
       "3      33                 1       1392             1                 3   \n",
       "4      27                 2        591             1                 2   \n",
       "5      32                 1       1005             1                 2   \n",
       "6      59                 2       1324             1                 3   \n",
       "7      30                 2       1358             1                24   \n",
       "8      38                 1        216             1                23   \n",
       "9      36                 2       1299             1                27   \n",
       "10     35                 2        809             1                16   \n",
       "11     29                 2        153             1                15   \n",
       "12     31                 2        670             1                26   \n",
       "13     34                 2       1346             1                19   \n",
       "14     28                 2        103             1                24   \n",
       "15     29                 2       1389             1                21   \n",
       "16     32                 2        334             1                 5   \n",
       "17     22                 0       1123             1                16   \n",
       "18     53                 2       1219             2                 2   \n",
       "19     38                 2        371             1                 2   \n",
       "20     24                 0        673             1                11   \n",
       "21     36                 2       1218             2                 9   \n",
       "22     34                 2        419             1                 7   \n",
       "23     21                 2        391             1                15   \n",
       "24     34                 2        699             1                 6   \n",
       "25     53                 2       1282             1                 5   \n",
       "26     32                 1       1125             1                16   \n",
       "27     42                 2        691             2                 8   \n",
       "28     44                 2        477             1                 7   \n",
       "29     46                 2        705             2                 2   \n",
       "...   ...               ...        ...           ...               ...   \n",
       "1440   36                 1        688             1                 4   \n",
       "1441   56                 0        667             1                 1   \n",
       "1442   29                 2       1092             1                 1   \n",
       "1443   42                 2        300             1                 2   \n",
       "1444   56                 2        310             1                 7   \n",
       "1445   41                 2        582             1                28   \n",
       "1446   34                 2        704             2                28   \n",
       "1447   36                 0        301             2                15   \n",
       "1448   41                 2        930             2                 3   \n",
       "1449   32                 2        529             1                 2   \n",
       "1450   35                 2       1146             0                26   \n",
       "1451   38                 2        345             2                10   \n",
       "1452   50                 1        878             2                 1   \n",
       "1453   36                 2       1120             2                11   \n",
       "1454   45                 2        374             2                20   \n",
       "1455   40                 2       1322             1                 2   \n",
       "1456   35                 1       1199             1                18   \n",
       "1457   40                 2       1194             1                 2   \n",
       "1458   35                 2        287             1                 1   \n",
       "1459   29                 2       1378             1                13   \n",
       "1460   29                 2        468             1                28   \n",
       "1461   50                 2        410             2                28   \n",
       "1462   39                 2        722             2                24   \n",
       "1463   31                 0        325             1                 5   \n",
       "1464   26                 2       1167             2                 5   \n",
       "1465   36                 1        884             1                23   \n",
       "1466   39                 2        613             1                 6   \n",
       "1467   27                 2        155             1                 4   \n",
       "1468   49                 1       1023             2                 2   \n",
       "1469   34                 2        628             1                 8   \n",
       "\n",
       "      Education  e.EducationField  EmployeeCount  EmployeeNumber  \\\n",
       "0             2                 1              1               1   \n",
       "1             1                 1              1               2   \n",
       "2             2                 4              1               4   \n",
       "3             4                 1              1               5   \n",
       "4             1                 3              1               7   \n",
       "5             2                 1              1               8   \n",
       "6             3                 3              1              10   \n",
       "7             1                 1              1              11   \n",
       "8             3                 1              1              12   \n",
       "9             3                 3              1              13   \n",
       "10            3                 3              1              14   \n",
       "11            2                 1              1              15   \n",
       "12            1                 1              1              16   \n",
       "13            2                 3              1              18   \n",
       "14            3                 1              1              19   \n",
       "15            4                 1              1              20   \n",
       "16            2                 1              1              21   \n",
       "17            2                 3              1              22   \n",
       "18            4                 1              1              23   \n",
       "19            3                 1              1              24   \n",
       "20            2                 4              1              26   \n",
       "21            4                 1              1              27   \n",
       "22            4                 1              1              28   \n",
       "23            2                 1              1              30   \n",
       "24            1                 3              1              31   \n",
       "25            3                 4              1              32   \n",
       "26            1                 1              1              33   \n",
       "27            4                 2              1              35   \n",
       "28            4                 3              1              36   \n",
       "29            4                 2              1              38   \n",
       "...         ...               ...            ...             ...   \n",
       "1440          2                 1              1            2025   \n",
       "1441          4                 1              1            2026   \n",
       "1442          4                 3              1            2027   \n",
       "1443          3                 1              1            2031   \n",
       "1444          2                 5              1            2032   \n",
       "1445          4                 1              1            2034   \n",
       "1446          3                 2              1            2035   \n",
       "1447          4                 2              1            2036   \n",
       "1448          3                 1              1            2037   \n",
       "1449          3                 5              1            2038   \n",
       "1450          4                 1              1            2040   \n",
       "1451          2                 1              1            2041   \n",
       "1452          4                 1              1            2044   \n",
       "1453          4                 2              1            2045   \n",
       "1454          3                 1              1            2046   \n",
       "1455          4                 1              1            2048   \n",
       "1456          4                 1              1            2049   \n",
       "1457          4                 3              1            2051   \n",
       "1458          4                 1              1            2052   \n",
       "1459          2                 4              1            2053   \n",
       "1460          4                 3              1            2054   \n",
       "1461          3                 2              1            2055   \n",
       "1462          1                 2              1            2056   \n",
       "1463          3                 3              1            2057   \n",
       "1464          3                 4              1            2060   \n",
       "1465          2                 3              1            2061   \n",
       "1466          1                 3              1            2062   \n",
       "1467          3                 1              1            2064   \n",
       "1468          3                 3              1            2065   \n",
       "1469          3                 3              1            2068   \n",
       "\n",
       "      EnvironmentSatisfaction          ...           RelationshipSatisfaction  \\\n",
       "0                           2          ...                                  1   \n",
       "1                           3          ...                                  4   \n",
       "2                           4          ...                                  2   \n",
       "3                           4          ...                                  3   \n",
       "4                           1          ...                                  4   \n",
       "5                           4          ...                                  3   \n",
       "6                           3          ...                                  1   \n",
       "7                           4          ...                                  2   \n",
       "8                           4          ...                                  2   \n",
       "9                           3          ...                                  2   \n",
       "10                          1          ...                                  3   \n",
       "11                          4          ...                                  4   \n",
       "12                          1          ...                                  4   \n",
       "13                          2          ...                                  3   \n",
       "14                          3          ...                                  2   \n",
       "15                          2          ...                                  3   \n",
       "16                          1          ...                                  4   \n",
       "17                          4          ...                                  2   \n",
       "18                          1          ...                                  3   \n",
       "19                          4          ...                                  3   \n",
       "20                          1          ...                                  4   \n",
       "21                          3          ...                                  2   \n",
       "22                          1          ...                                  3   \n",
       "23                          3          ...                                  4   \n",
       "24                          2          ...                                  3   \n",
       "25                          3          ...                                  4   \n",
       "26                          2          ...                                  2   \n",
       "27                          3          ...                                  4   \n",
       "28                          1          ...                                  4   \n",
       "29                          2          ...                                  4   \n",
       "...                       ...          ...                                ...   \n",
       "1440                        4          ...                                  2   \n",
       "1441                        3          ...                                  1   \n",
       "1442                        1          ...                                  2   \n",
       "1443                        1          ...                                  1   \n",
       "1444                        4          ...                                  4   \n",
       "1445                        1          ...                                  3   \n",
       "1446                        4          ...                                  4   \n",
       "1447                        4          ...                                  1   \n",
       "1448                        3          ...                                  3   \n",
       "1449                        4          ...                                  4   \n",
       "1450                        3          ...                                  3   \n",
       "1451                        1          ...                                  3   \n",
       "1452                        2          ...                                  4   \n",
       "1453                        2          ...                                  1   \n",
       "1454                        4          ...                                  3   \n",
       "1455                        3          ...                                  4   \n",
       "1456                        3          ...                                  4   \n",
       "1457                        3          ...                                  2   \n",
       "1458                        3          ...                                  4   \n",
       "1459                        4          ...                                  1   \n",
       "1460                        4          ...                                  2   \n",
       "1461                        4          ...                                  2   \n",
       "1462                        2          ...                                  1   \n",
       "1463                        2          ...                                  2   \n",
       "1464                        4          ...                                  4   \n",
       "1465                        3          ...                                  3   \n",
       "1466                        4          ...                                  1   \n",
       "1467                        2          ...                                  2   \n",
       "1468                        4          ...                                  4   \n",
       "1469                        2          ...                                  1   \n",
       "\n",
       "      StandardHours  StockOptionLevel  TotalWorkingYears  \\\n",
       "0                80                 0                  8   \n",
       "1                80                 1                 10   \n",
       "2                80                 0                  7   \n",
       "3                80                 0                  8   \n",
       "4                80                 1                  6   \n",
       "5                80                 0                  8   \n",
       "6                80                 3                 12   \n",
       "7                80                 1                  1   \n",
       "8                80                 0                 10   \n",
       "9                80                 2                 17   \n",
       "10               80                 1                  6   \n",
       "11               80                 0                 10   \n",
       "12               80                 1                  5   \n",
       "13               80                 1                  3   \n",
       "14               80                 0                  6   \n",
       "15               80                 1                 10   \n",
       "16               80                 2                  7   \n",
       "17               80                 2                  1   \n",
       "18               80                 0                 31   \n",
       "19               80                 0                  6   \n",
       "20               80                 1                  5   \n",
       "21               80                 0                 10   \n",
       "22               80                 0                 13   \n",
       "23               80                 0                  0   \n",
       "24               80                 0                  8   \n",
       "25               80                 1                 26   \n",
       "26               80                 0                 10   \n",
       "27               80                 1                 10   \n",
       "28               80                 1                 24   \n",
       "29               80                 0                 22   \n",
       "...             ...               ...                ...   \n",
       "1440             80                 3                 18   \n",
       "1441             80                 1                 13   \n",
       "1442             80                 3                  4   \n",
       "1443             80                 0                 24   \n",
       "1444             80                 1                 14   \n",
       "1445             80                 1                 21   \n",
       "1446             80                 2                  8   \n",
       "1447             80                 1                 15   \n",
       "1448             80                 1                 14   \n",
       "1449             80                 0                  4   \n",
       "1450             80                 0                  9   \n",
       "1451             80                 1                 10   \n",
       "1452             80                 2                 12   \n",
       "1453             80                 1                  8   \n",
       "1454             80                 0                  8   \n",
       "1455             80                 0                  8   \n",
       "1456             80                 2                 10   \n",
       "1457             80                 3                 20   \n",
       "1458             80                 1                  4   \n",
       "1459             80                 1                 10   \n",
       "1460             80                 0                  5   \n",
       "1461             80                 1                 20   \n",
       "1462             80                 1                 21   \n",
       "1463             80                 0                 10   \n",
       "1464             80                 0                  5   \n",
       "1465             80                 1                 17   \n",
       "1466             80                 1                  9   \n",
       "1467             80                 1                  6   \n",
       "1468             80                 0                 17   \n",
       "1469             80                 0                  6   \n",
       "\n",
       "      TrainingTimesLastYear  WorkLifeBalance  YearsAtCompany  \\\n",
       "0                         0                1               6   \n",
       "1                         3                3              10   \n",
       "2                         3                3               0   \n",
       "3                         3                3               8   \n",
       "4                         3                3               2   \n",
       "5                         2                2               7   \n",
       "6                         3                2               1   \n",
       "7                         2                3               1   \n",
       "8                         2                3               9   \n",
       "9                         3                2               7   \n",
       "10                        5                3               5   \n",
       "11                        3                3               9   \n",
       "12                        1                2               5   \n",
       "13                        2                3               2   \n",
       "14                        4                3               4   \n",
       "15                        1                3              10   \n",
       "16                        5                2               6   \n",
       "17                        2                2               1   \n",
       "18                        3                3              25   \n",
       "19                        3                3               3   \n",
       "20                        5                2               4   \n",
       "21                        4                3               5   \n",
       "22                        4                3              12   \n",
       "23                        6                3               0   \n",
       "24                        2                3               4   \n",
       "25                        3                2              14   \n",
       "26                        5                3              10   \n",
       "27                        2                3               9   \n",
       "28                        4                3              22   \n",
       "29                        2                2               2   \n",
       "...                     ...              ...             ...   \n",
       "1440                      3                3               4   \n",
       "1441                      2                2              13   \n",
       "1442                      3                4               2   \n",
       "1443                      2                2              22   \n",
       "1444                      4                1              10   \n",
       "1445                      3                3              20   \n",
       "1446                      2                3               8   \n",
       "1447                      4                2              15   \n",
       "1448                      5                3               5   \n",
       "1449                      4                3               4   \n",
       "1450                      2                3               9   \n",
       "1451                      1                3              10   \n",
       "1452                      3                3               6   \n",
       "1453                      2                2               6   \n",
       "1454                      3                3               5   \n",
       "1455                      2                3               2   \n",
       "1456                      2                4              10   \n",
       "1457                      2                3               5   \n",
       "1458                      5                3               4   \n",
       "1459                      2                3               4   \n",
       "1460                      3                1               5   \n",
       "1461                      3                3               3   \n",
       "1462                      2                2              20   \n",
       "1463                      2                3               9   \n",
       "1464                      2                3               4   \n",
       "1465                      3                3               5   \n",
       "1466                      5                3               7   \n",
       "1467                      0                3               6   \n",
       "1468                      3                2               9   \n",
       "1469                      3                4               4   \n",
       "\n",
       "      YearsInCurrentRole  YearsSinceLastPromotion  YearsWithCurrManager  \n",
       "0                      4                        0                     5  \n",
       "1                      7                        1                     7  \n",
       "2                      0                        0                     0  \n",
       "3                      7                        3                     0  \n",
       "4                      2                        2                     2  \n",
       "5                      7                        3                     6  \n",
       "6                      0                        0                     0  \n",
       "7                      0                        0                     0  \n",
       "8                      7                        1                     8  \n",
       "9                      7                        7                     7  \n",
       "10                     4                        0                     3  \n",
       "11                     5                        0                     8  \n",
       "12                     2                        4                     3  \n",
       "13                     2                        1                     2  \n",
       "14                     2                        0                     3  \n",
       "15                     9                        8                     8  \n",
       "16                     2                        0                     5  \n",
       "17                     0                        0                     0  \n",
       "18                     8                        3                     7  \n",
       "19                     2                        1                     2  \n",
       "20                     2                        1                     3  \n",
       "21                     3                        0                     3  \n",
       "22                     6                        2                    11  \n",
       "23                     0                        0                     0  \n",
       "24                     2                        1                     3  \n",
       "25                    13                        4                     8  \n",
       "26                     2                        6                     7  \n",
       "27                     7                        4                     2  \n",
       "28                     6                        5                    17  \n",
       "29                     2                        2                     1  \n",
       "...                  ...                      ...                   ...  \n",
       "1440                   2                        0                     2  \n",
       "1441                  12                        1                     9  \n",
       "1442                   2                        2                     2  \n",
       "1443                   6                        4                    14  \n",
       "1444                   9                        9                     8  \n",
       "1445                   7                        0                    10  \n",
       "1446                   7                        1                     7  \n",
       "1447                  12                       11                    11  \n",
       "1448                   4                        0                     4  \n",
       "1449                   2                        1                     2  \n",
       "1450                   0                        1                     7  \n",
       "1451                   7                        1                     9  \n",
       "1452                   3                        0                     1  \n",
       "1453                   3                        0                     0  \n",
       "1454                   3                        0                     1  \n",
       "1455                   2                        2                     2  \n",
       "1456                   2                        0                     2  \n",
       "1457                   3                        0                     2  \n",
       "1458                   3                        1                     1  \n",
       "1459                   3                        0                     3  \n",
       "1460                   4                        0                     4  \n",
       "1461                   2                        2                     0  \n",
       "1462                   9                        9                     6  \n",
       "1463                   4                        1                     7  \n",
       "1464                   2                        0                     0  \n",
       "1465                   2                        0                     3  \n",
       "1466                   7                        1                     7  \n",
       "1467                   2                        0                     3  \n",
       "1468                   6                        0                     8  \n",
       "1469                   3                        1                     2  \n",
       "\n",
       "[1470 rows x 34 columns]>"
      ]
     },
     "execution_count": 9,
     "metadata": {},
     "output_type": "execute_result"
    }
   ],
   "source": [
    "X.head"
   ]
  },
  {
   "cell_type": "code",
   "execution_count": 10,
   "metadata": {},
   "outputs": [
    {
     "data": {
      "text/plain": [
       "pandas.core.frame.DataFrame"
      ]
     },
     "execution_count": 10,
     "metadata": {},
     "output_type": "execute_result"
    }
   ],
   "source": [
    "type(X)"
   ]
  },
  {
   "cell_type": "code",
   "execution_count": 11,
   "metadata": {
    "collapsed": true
   },
   "outputs": [],
   "source": [
    "clf = ExtraTreesClassifier()"
   ]
  },
  {
   "cell_type": "code",
   "execution_count": 12,
   "metadata": {
    "collapsed": true
   },
   "outputs": [],
   "source": [
    "clf = clf.fit(X, y)"
   ]
  },
  {
   "cell_type": "code",
   "execution_count": 13,
   "metadata": {},
   "outputs": [
    {
     "data": {
      "text/plain": [
       "array([ 0.04110316,  0.01881797,  0.03174338,  0.02467708,  0.03536687,\n",
       "        0.02398398,  0.03115683,  0.        ,  0.02986053,  0.03931406,\n",
       "        0.01769396,  0.02878321,  0.02859532,  0.02509625,  0.0347258 ,\n",
       "        0.03546272,  0.03944241,  0.04712795,  0.02638717,  0.037857  ,\n",
       "        0.        ,  0.06718725,  0.03145642,  0.01681241,  0.0287303 ,\n",
       "        0.        ,  0.03363089,  0.04065197,  0.0273362 ,  0.03228231,\n",
       "        0.03685827,  0.02932545,  0.0230164 ,  0.03551646])"
      ]
     },
     "execution_count": 13,
     "metadata": {},
     "output_type": "execute_result"
    }
   ],
   "source": [
    "clf.feature_importances_ "
   ]
  },
  {
   "cell_type": "code",
   "execution_count": 14,
   "metadata": {
    "collapsed": true
   },
   "outputs": [],
   "source": [
    "model = SelectFromModel(clf, prefit=True)"
   ]
  },
  {
   "cell_type": "code",
   "execution_count": 15,
   "metadata": {
    "collapsed": true
   },
   "outputs": [],
   "source": [
    "X_new = model.transform(X)"
   ]
  },
  {
   "cell_type": "code",
   "execution_count": 30,
   "metadata": {},
   "outputs": [
    {
     "data": {
      "text/plain": [
       "(1470, 18)"
      ]
     },
     "execution_count": 30,
     "metadata": {},
     "output_type": "execute_result"
    }
   ],
   "source": [
    "X_new.shape"
   ]
  },
  {
   "cell_type": "code",
   "execution_count": 31,
   "metadata": {},
   "outputs": [
    {
     "data": {
      "text/plain": [
       "18"
      ]
     },
     "execution_count": 31,
     "metadata": {},
     "output_type": "execute_result"
    }
   ],
   "source": [
    "X_new.shape[1] #column size"
   ]
  },
  {
   "cell_type": "code",
   "execution_count": 17,
   "metadata": {},
   "outputs": [
    {
     "data": {
      "text/plain": [
       "numpy.ndarray"
      ]
     },
     "execution_count": 17,
     "metadata": {},
     "output_type": "execute_result"
    }
   ],
   "source": [
    "type(X_new)"
   ]
  },
  {
   "cell_type": "code",
   "execution_count": 18,
   "metadata": {},
   "outputs": [
    {
     "data": {
      "text/plain": [
       "array([[  41, 1102,    1, ...,    1,    6,    5],\n",
       "       [  49,  279,    8, ...,    3,   10,    7],\n",
       "       [  37, 1373,    2, ...,    3,    0,    0],\n",
       "       ..., \n",
       "       [  27,  155,    4, ...,    3,    6,    3],\n",
       "       [  49, 1023,    2, ...,    2,    9,    8],\n",
       "       [  34,  628,    8, ...,    4,    4,    2]], dtype=int64)"
      ]
     },
     "execution_count": 18,
     "metadata": {},
     "output_type": "execute_result"
    }
   ],
   "source": [
    "X_new.view()"
   ]
  },
  {
   "cell_type": "code",
   "execution_count": 19,
   "metadata": {
    "collapsed": true
   },
   "outputs": [],
   "source": [
    "#X_nd = X.values"
   ]
  },
  {
   "cell_type": "code",
   "execution_count": 20,
   "metadata": {
    "collapsed": true
   },
   "outputs": [],
   "source": [
    "#type(X_nd)"
   ]
  },
  {
   "cell_type": "code",
   "execution_count": 21,
   "metadata": {
    "collapsed": true
   },
   "outputs": [],
   "source": [
    "#X_nd.view()"
   ]
  },
  {
   "cell_type": "code",
   "execution_count": 22,
   "metadata": {
    "collapsed": true
   },
   "outputs": [],
   "source": [
    "#X_new_df = pd.DataFrame(data=X_new[1:,1:], index=X_new[1:,0], columns=X_new[0,1:])"
   ]
  },
  {
   "cell_type": "code",
   "execution_count": 23,
   "metadata": {
    "collapsed": true
   },
   "outputs": [],
   "source": [
    "#type(X_new_df)"
   ]
  },
  {
   "cell_type": "code",
   "execution_count": 32,
   "metadata": {},
   "outputs": [
    {
     "data": {
      "text/plain": [
       "array([  41, 1102,    1,    1,    1,    2,    7,    4,    2, 5993,    8,\n",
       "          1,   11,    0,    8,    1,    6,    5], dtype=int64)"
      ]
     },
     "execution_count": 32,
     "metadata": {},
     "output_type": "execute_result"
    }
   ],
   "source": [
    "X_new[0,:]"
   ]
  },
  {
   "cell_type": "code",
   "execution_count": 33,
   "metadata": {},
   "outputs": [
    {
     "data": {
      "text/plain": [
       "array([  49,  279,    8,    1,    2,    3,    6,    2,    1, 5130,    1,\n",
       "          0,   23,    1,   10,    3,   10,    7], dtype=int64)"
      ]
     },
     "execution_count": 33,
     "metadata": {},
     "output_type": "execute_result"
    }
   ],
   "source": [
    "X_new[1,:]"
   ]
  },
  {
   "cell_type": "code",
   "execution_count": 34,
   "metadata": {},
   "outputs": [
    {
     "data": {
      "text/plain": [
       "array([  37, 1373,    2,    4,    4,    4,    2,    3,    2, 2090,    6,\n",
       "          1,   15,    0,    7,    3,    0,    0], dtype=int64)"
      ]
     },
     "execution_count": 34,
     "metadata": {},
     "output_type": "execute_result"
    }
   ],
   "source": [
    "X_new[2,:]"
   ]
  },
  {
   "cell_type": "code",
   "execution_count": 35,
   "metadata": {},
   "outputs": [
    {
     "data": {
      "text/plain": [
       "array([  33, 1392,    3,    1,    5,    4,    6,    3,    1, 2909,    1,\n",
       "          1,   11,    0,    8,    3,    8,    0], dtype=int64)"
      ]
     },
     "execution_count": 35,
     "metadata": {},
     "output_type": "execute_result"
    }
   ],
   "source": [
    "X_new[3,:]"
   ]
  },
  {
   "cell_type": "code",
   "execution_count": 26,
   "metadata": {
    "collapsed": true
   },
   "outputs": [],
   "source": [
    "#features = np.array([\"Age\",\"DailyRate\",\"DistanceFromHome\",\"EmployeeNumber\",\"EnvironmentSatisfaction\",\"HourlyRate\",\"JobInvolvement\",\"JobLevel\",\"e.JobRole\",\"JobSatisfaction\",\"e.MaritalStatus\",\"MonthlyIncome\",\"MonthlyRate\",\"NumCompaniesWorked\",\"e.OverTime\",\"RelationshipSatisfaction\",\"StockOptionLevel\",\"TotalWorkingYears\",\"TrainingTimesLastYear\",\"WorkLifeBalance\",\"YearsAtCompany\",\"YearsInCurrentRole\"])"
   ]
  },
  {
   "cell_type": "code",
   "execution_count": 27,
   "metadata": {
    "collapsed": true
   },
   "outputs": [],
   "source": [
    "#features.shape"
   ]
  },
  {
   "cell_type": "code",
   "execution_count": 28,
   "metadata": {
    "collapsed": true
   },
   "outputs": [],
   "source": [
    "#X_withf = np.vstack((features,X_new))"
   ]
  },
  {
   "cell_type": "code",
   "execution_count": null,
   "metadata": {
    "collapsed": true
   },
   "outputs": [],
   "source": []
  }
 ],
 "metadata": {
  "kernelspec": {
   "display_name": "Python 3",
   "language": "python",
   "name": "python3"
  },
  "language_info": {
   "codemirror_mode": {
    "name": "ipython",
    "version": 3
   },
   "file_extension": ".py",
   "mimetype": "text/x-python",
   "name": "python",
   "nbconvert_exporter": "python",
   "pygments_lexer": "ipython3",
   "version": "3.6.3"
  }
 },
 "nbformat": 4,
 "nbformat_minor": 2
}
